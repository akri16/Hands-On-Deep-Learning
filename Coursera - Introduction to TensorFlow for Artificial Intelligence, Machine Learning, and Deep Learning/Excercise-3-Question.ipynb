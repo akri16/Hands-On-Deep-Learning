{
 "cells": [
  {
   "cell_type": "markdown",
   "metadata": {
    "colab_type": "text",
    "id": "iQjHqsmTAVLU"
   },
   "source": [
    "## Exercise 3\n",
    "In the videos you looked at how you would improve Fashion MNIST using Convolutions. For your exercise see if you can improve MNIST to 99.8% accuracy or more using only a single convolutional layer and a single MaxPooling 2D. You should stop training once the accuracy goes above this amount. It should happen in less than 20 epochs, so it's ok to hard code the number of epochs for training, but your training must end once it hits the above metric. If it doesn't, then you'll need to redesign your layers.\n",
    "\n",
    "I've started the code for you -- you need to finish it!\n",
    "\n",
    "When 99.8% accuracy has been hit, you should print out the string \"Reached 99.8% accuracy so cancelling training!\"\n"
   ]
  },
  {
   "cell_type": "code",
   "execution_count": 8,
   "metadata": {},
   "outputs": [],
   "source": [
    "import tensorflow as tf\n",
    "import numpy as np\n",
    "from os import path, getcwd, chdir\n",
    "\n",
    "# DO NOT CHANGE THE LINE BELOW. If you are developing in a local\n",
    "# environment, then grab mnist.npz from the Coursera Jupyter Notebook\n",
    "# and place it inside a local folder and edit the path to that location\n",
    "path = f\"{getcwd()}/../tmp2/mnist.npz\""
   ]
  },
  {
   "cell_type": "code",
   "execution_count": 2,
   "metadata": {},
   "outputs": [],
   "source": [
    "config = tf.ConfigProto()\n",
    "config.gpu_options.allow_growth = True\n",
    "sess = tf.Session(config=config)"
   ]
  },
  {
   "cell_type": "code",
   "execution_count": 5,
   "metadata": {},
   "outputs": [
    {
     "data": {
      "text/plain": [
       "(60000, 28, 28)"
      ]
     },
     "execution_count": 5,
     "metadata": {},
     "output_type": "execute_result"
    }
   ],
   "source": [
    "mnist = tf.keras.datasets.mnist\n",
    "(training_images, training_labels), (test_images, test_labels) = mnist.load_data(path=path)\n",
    "training_images.shape"
   ]
  },
  {
   "cell_type": "code",
   "execution_count": 27,
   "metadata": {},
   "outputs": [],
   "source": [
    "# GRADED FUNCTION: train_mnist_conv\n",
    "def train_mnist_conv():\n",
    "    # Please write your code only where you are indicated.\n",
    "    # please do not remove model fitting inline comments.\n",
    "\n",
    "    # YOUR CODE STARTS HERE\n",
    "    \n",
    "    class myCallback(tf.keras.callbacks.Callback):\n",
    "        def on_epoch_end(self, epoch, logs={}):\n",
    "            if (logs.get('acc') >= 0.998):\n",
    "                print(\"Reached 99.8% accuracy so cancelling training!\")\n",
    "                self.model.stop_training = True\n",
    "    \n",
    "    # YOUR CODE ENDS HERE\n",
    "\n",
    "    mnist = tf.keras.datasets.mnist\n",
    "    (training_images, training_labels), (test_images, test_labels) = mnist.load_data(path=path)\n",
    "    # YOUR CODE STARTS HERE\n",
    "    training_images = np.reshape(training_images, (60000, 28, 28, 1))\n",
    "    test_images = np.reshape(test_images, (10000, 28, 28, 1))\n",
    "\n",
    "    \n",
    "    # YOUR CODE ENDS HERE\n",
    "\n",
    "    model = tf.keras.models.Sequential([\n",
    "            # YOUR CODE STARTS HERE\n",
    "            # Try to simplify the architecture as much as possible. You can reach the target accuracy\n",
    "            # with just a single convolution and max pooling followed by the usual flatten and dense layers.\n",
    "            # If you get grader timeouts in your submission, try to minimize the number of convolution filters \n",
    "            # and dense units.\n",
    "        \n",
    "            tf.keras.layers.Conv2D(128, (3, 3), input_shape=(28, 28, 1), activation='relu'),\n",
    "            tf.keras.layers.MaxPooling2D(2,2),\n",
    "            tf.keras.layers.Flatten(),\n",
    "            tf.keras.layers.Dense(128, activation='relu'),\n",
    "            tf.keras.layers.Dense(10, activation='softmax')\n",
    "            # YOUR CODE ENDS HERE\n",
    "    ])\n",
    "\n",
    "    model.compile(optimizer='adam', loss='sparse_categorical_crossentropy', metrics=['accuracy'])\n",
    "    # model fitting\n",
    "    history = model.fit(\n",
    "        # YOUR CODE STARTS HERE\n",
    "        # Remember to set a callback function to stop the training when the target accuracy is reached. \n",
    "        # It should be met in less than 20 epochs.\n",
    "        training_images, training_labels, epochs=20, callbacks=[myCallback()]\n",
    "        # YOUR CODE ENDS HERE\n",
    "    )\n",
    "    # model fitting\n",
    "    return history.epoch, history.history['acc'][-1]\n",
    "\n"
   ]
  },
  {
   "cell_type": "code",
   "execution_count": 28,
   "metadata": {},
   "outputs": [
    {
     "name": "stdout",
     "output_type": "stream",
     "text": [
      "Epoch 1/20\n",
      "60000/60000 [==============================] - 14s 240us/sample - loss: 0.5952 - acc: 0.9436\n",
      "Epoch 2/20\n",
      "60000/60000 [==============================] - 14s 240us/sample - loss: 0.0751 - acc: 0.9775\n",
      "Epoch 3/20\n",
      "60000/60000 [==============================] - 15s 242us/sample - loss: 0.0558 - acc: 0.9826\n",
      "Epoch 4/20\n",
      "60000/60000 [==============================] - 14s 240us/sample - loss: 0.0398 - acc: 0.9877\n",
      "Epoch 5/20\n",
      "60000/60000 [==============================] - 15s 245us/sample - loss: 0.0317 - acc: 0.9907\n",
      "Epoch 6/20\n",
      "60000/60000 [==============================] - 16s 268us/sample - loss: 0.0243 - acc: 0.9923\n",
      "Epoch 7/20\n",
      "60000/60000 [==============================] - 14s 235us/sample - loss: 0.0259 - acc: 0.9925\n",
      "Epoch 8/20\n",
      "60000/60000 [==============================] - 14s 235us/sample - loss: 0.0188 - acc: 0.9940\n",
      "Epoch 9/20\n",
      "60000/60000 [==============================] - 14s 228us/sample - loss: 0.0203 - acc: 0.9944\n",
      "Epoch 10/20\n",
      "60000/60000 [==============================] - 13s 224us/sample - loss: 0.0184 - acc: 0.9952\n",
      "Epoch 11/20\n",
      "60000/60000 [==============================] - 14s 226us/sample - loss: 0.0160 - acc: 0.9955\n",
      "Epoch 12/20\n",
      "60000/60000 [==============================] - 15s 245us/sample - loss: 0.0149 - acc: 0.9961\n",
      "Epoch 13/20\n",
      "60000/60000 [==============================] - 14s 240us/sample - loss: 0.0173 - acc: 0.9959\n",
      "Epoch 14/20\n",
      "60000/60000 [==============================] - 15s 257us/sample - loss: 0.0135 - acc: 0.9970\n",
      "Epoch 15/20\n",
      "60000/60000 [==============================] - 14s 240us/sample - loss: 0.0141 - acc: 0.9969\n",
      "Epoch 16/20\n",
      "60000/60000 [==============================] - 14s 240us/sample - loss: 0.0144 - acc: 0.9969\n",
      "Epoch 17/20\n",
      "60000/60000 [==============================] - 13s 222us/sample - loss: 0.0188 - acc: 0.9967\n",
      "Epoch 18/20\n",
      "60000/60000 [==============================] - 14s 237us/sample - loss: 0.0136 - acc: 0.9972\n",
      "Epoch 19/20\n",
      "59744/60000 [============================>.] - ETA: 0s - loss: 0.0113 - acc: 0.9980- ETA: 0s - loss: 0.0119 - acReached 99.8% accuracy so cancelling training!\n",
      "60000/60000 [==============================] - 14s 232us/sample - loss: 0.0113 - acc: 0.9980\n"
     ]
    }
   ],
   "source": [
    "_, _ = train_mnist_conv()"
   ]
  },
  {
   "cell_type": "code",
   "execution_count": null,
   "metadata": {},
   "outputs": [],
   "source": [
    "# Now click the 'Submit Assignment' button above.\n",
    "# Once that is complete, please run the following two cells to save your work and close the notebook"
   ]
  },
  {
   "cell_type": "code",
   "execution_count": null,
   "metadata": {},
   "outputs": [],
   "source": [
    "%%javascript\n",
    "<!-- Save the notebook -->\n",
    "IPython.notebook.save_checkpoint();"
   ]
  },
  {
   "cell_type": "code",
   "execution_count": null,
   "metadata": {},
   "outputs": [],
   "source": [
    "%%javascript\n",
    "IPython.notebook.session.delete();\n",
    "window.onbeforeunload = null\n",
    "setTimeout(function() { window.close(); }, 1000);"
   ]
  }
 ],
 "metadata": {
  "coursera": {
   "course_slug": "introduction-tensorflow",
   "graded_item_id": "ml06H",
   "launcher_item_id": "hQF8A"
  },
  "kernelspec": {
   "display_name": "Python 3",
   "language": "python",
   "name": "python3"
  },
  "language_info": {
   "codemirror_mode": {
    "name": "ipython",
    "version": 3
   },
   "file_extension": ".py",
   "mimetype": "text/x-python",
   "name": "python",
   "nbconvert_exporter": "python",
   "pygments_lexer": "ipython3",
   "version": "3.6.8"
  }
 },
 "nbformat": 4,
 "nbformat_minor": 1
}
